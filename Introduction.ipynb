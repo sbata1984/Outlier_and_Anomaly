{
 "cells": [
  {
   "cell_type": "code",
   "execution_count": 1,
   "id": "b9673d15-9b06-4226-bf2b-202bd0c1f9bb",
   "metadata": {},
   "outputs": [],
   "source": [
    "import pandas as pd\n",
    "import numpy as np\n",
    "from datascience import *\n",
    "import matplotlib\n",
    "matplotlib.use('TkAgg')\n",
    "import matplotlib.pyplot as plots\n",
    "from urllib.request import urlopen, Request\n",
    "import re\n",
    "def read_url(url):\n",
    "    return re.sub ('\\\\s +','',urlopen(url).read().decode())                                  \n",
    "    "
   ]
  },
  {
   "cell_type": "code",
   "execution_count": 2,
   "id": "35bbe271-9cad-4d5f-9239-95639dfdff42",
   "metadata": {},
   "outputs": [],
   "source": [
    "huck_finn_url = 'https://www.inferentialthinking.com/data/huck_finn.txt'\n",
    "huck_finn_text = read_url(huck_finn_url)\n",
    "huck_finn_chapters = huck_finn_text.split('CHAPTER ')[44:]\n",
    "\n",
    "little_women_url = 'https://www.inferentialthinking.com/data/little_women.txt'\n",
    "little_women_text = read_url(little_women_url)\n",
    "little_women_chapters = little_women_text.split('CHAPTER ')[1:]"
   ]
  },
  {
   "cell_type": "code",
   "execution_count": 3,
   "id": "5bbe1479-3313-4571-9b22-c32bb198b629",
   "metadata": {},
   "outputs": [
    {
     "data": {
      "text/html": [
       "<table border=\"1\" class=\"dataframe\">\n",
       "    <thead>\n",
       "        <tr>\n",
       "            <th>Chapters</th>\n",
       "        </tr>\n",
       "    </thead>\n",
       "    <tbody>\n",
       "        <tr>\n",
       "            <td>I.\r\n",
       "\r\n",
       "YOU don't know about me without you have read a bo ...</td>\n",
       "        </tr>\n",
       "        <tr>\n",
       "            <td>II.\r\n",
       "\r\n",
       "WE went tiptoeing along a path amongst the trees  ...</td>\n",
       "        </tr>\n",
       "        <tr>\n",
       "            <td>III.\r\n",
       "\r\n",
       "WELL, I got a good going-over in the morning fro ...</td>\n",
       "        </tr>\n",
       "        <tr>\n",
       "            <td>IV.\r\n",
       "\r\n",
       "WELL, three or four months run along, and it was  ...</td>\n",
       "        </tr>\n",
       "        <tr>\n",
       "            <td>V.\r\n",
       "\r\n",
       "I had shut the door to.  Then I turned around and  ...</td>\n",
       "        </tr>\n",
       "        <tr>\n",
       "            <td>VI.\r\n",
       "\r\n",
       "WELL, pretty soon the old man was up and around a ...</td>\n",
       "        </tr>\n",
       "        <tr>\n",
       "            <td>VII.\r\n",
       "\r\n",
       "\"GIT up!  What you 'bout?\"\r\n",
       "\r\n",
       "I opened my eyes a ...</td>\n",
       "        </tr>\n",
       "        <tr>\n",
       "            <td>VIII.\r\n",
       "\r\n",
       "THE sun was up so high when I waked that I judg ...</td>\n",
       "        </tr>\n",
       "        <tr>\n",
       "            <td>IX.\r\n",
       "\r\n",
       "I wanted to go and look at a place right about th ...</td>\n",
       "        </tr>\n",
       "        <tr>\n",
       "            <td>X.\r\n",
       "\r\n",
       "AFTER breakfast I wanted to talk about the dead ma ...</td>\n",
       "        </tr>\n",
       "    </tbody>\n",
       "</table>\n",
       "<p>... (33 rows omitted)</p>"
      ],
      "text/plain": [
       "Chapters\n",
       "I.\n",
       "\n",
       "YOU don't know about me without you have read a bo ...\n",
       "II.\n",
       "\n",
       "WE went tiptoeing along a path amongst the trees  ...\n",
       "III.\n",
       "\n",
       "WELL, I got a good going-over in the morning fro ...\n",
       "IV.\n",
       "\n",
       "WELL, three or four months run along, and it was  ...\n",
       "V.\n",
       "\n",
       "I had shut the door to.  Then I turned around and  ...\n",
       "VI.\n",
       "\n",
       "WELL, pretty soon the old man was up and around a ...\n",
       "VII.\n",
       "\n",
       "\"GIT up!  What you 'bout?\"\n",
       "\n",
       "I opened my eyes a ...\n",
       "VIII.\n",
       "\n",
       "THE sun was up so high when I waked that I judg ...\n",
       "IX.\n",
       "\n",
       "I wanted to go and look at a place right about th ...\n",
       "X.\n",
       "\n",
       "AFTER breakfast I wanted to talk about the dead ma ...\n",
       "... (33 rows omitted)"
      ]
     },
     "execution_count": 3,
     "metadata": {},
     "output_type": "execute_result"
    }
   ],
   "source": [
    "# Display the chapters of Huckleberry Finn in a table.\n",
    "\n",
    "Table().with_column('Chapters', huck_finn_chapters)"
   ]
  },
  {
   "cell_type": "code",
   "execution_count": 4,
   "id": "a8c7046b-54df-4d40-a09b-6d019c5520a6",
   "metadata": {},
   "outputs": [
    {
     "data": {
      "text/plain": [
       "array([ 6, 24,  5,  0,  0,  0,  2,  2,  0,  0,  2,  3,  1,  0,  0,  0,  3,\n",
       "        5,  0,  0,  0,  0,  0,  0,  0,  0,  0,  1,  0,  0,  1,  4, 19, 15,\n",
       "       14, 18,  9, 32, 11, 11,  8, 30,  6])"
      ]
     },
     "execution_count": 4,
     "metadata": {},
     "output_type": "execute_result"
    }
   ],
   "source": [
    "np.char.count(huck_finn_chapters,'Tom')"
   ]
  },
  {
   "cell_type": "code",
   "execution_count": 5,
   "id": "e544be40-29f1-40b5-b958-1baeae33d025",
   "metadata": {},
   "outputs": [],
   "source": [
    "# Count how many times the names Jim, Tom, and Huck appear in each chapter.\n",
    "\n",
    "counts = Table().with_columns([\n",
    "        'Jim', np.char.count(huck_finn_chapters, 'Jim'),\n",
    "        'Tom', np.char.count(huck_finn_chapters, 'Tom'),\n",
    "        'Huck', np.char.count(huck_finn_chapters, 'Huck')\n",
    "    ])\n",
    "\n",
    "# Plot the cumulative counts:\n",
    "# how many times in Chapter 1, how many times in Chapters 1 and 2, and so on.\n",
    "\n"
   ]
  },
  {
   "cell_type": "code",
   "execution_count": 6,
   "id": "b381195e-087c-4f9d-a5ad-85420eadf460",
   "metadata": {},
   "outputs": [
    {
     "data": {
      "text/html": [
       "<table border=\"1\" class=\"dataframe\">\n",
       "    <thead>\n",
       "        <tr>\n",
       "            <th>Jim</th> <th>Tom</th> <th>Huck</th>\n",
       "        </tr>\n",
       "    </thead>\n",
       "    <tbody>\n",
       "        <tr>\n",
       "            <td>0   </td> <td>6   </td> <td>3   </td>\n",
       "        </tr>\n",
       "        <tr>\n",
       "            <td>16  </td> <td>24  </td> <td>2   </td>\n",
       "        </tr>\n",
       "        <tr>\n",
       "            <td>0   </td> <td>5   </td> <td>2   </td>\n",
       "        </tr>\n",
       "        <tr>\n",
       "            <td>8   </td> <td>0   </td> <td>1   </td>\n",
       "        </tr>\n",
       "        <tr>\n",
       "            <td>0   </td> <td>0   </td> <td>0   </td>\n",
       "        </tr>\n",
       "        <tr>\n",
       "            <td>0   </td> <td>0   </td> <td>2   </td>\n",
       "        </tr>\n",
       "        <tr>\n",
       "            <td>0   </td> <td>2   </td> <td>0   </td>\n",
       "        </tr>\n",
       "        <tr>\n",
       "            <td>22  </td> <td>2   </td> <td>5   </td>\n",
       "        </tr>\n",
       "        <tr>\n",
       "            <td>11  </td> <td>0   </td> <td>1   </td>\n",
       "        </tr>\n",
       "        <tr>\n",
       "            <td>19  </td> <td>0   </td> <td>0   </td>\n",
       "        </tr>\n",
       "    </tbody>\n",
       "</table>\n",
       "<p>... (33 rows omitted)</p>"
      ],
      "text/plain": [
       "Jim  | Tom  | Huck\n",
       "0    | 6    | 3\n",
       "16   | 24   | 2\n",
       "0    | 5    | 2\n",
       "8    | 0    | 1\n",
       "0    | 0    | 0\n",
       "0    | 0    | 2\n",
       "0    | 2    | 0\n",
       "22   | 2    | 5\n",
       "11   | 0    | 1\n",
       "19   | 0    | 0\n",
       "... (33 rows omitted)"
      ]
     },
     "execution_count": 6,
     "metadata": {},
     "output_type": "execute_result"
    }
   ],
   "source": [
    "counts"
   ]
  },
  {
   "cell_type": "code",
   "execution_count": 7,
   "id": "57006a27-b856-4d56-8081-1c9ed8c2dace",
   "metadata": {},
   "outputs": [
    {
     "name": "stderr",
     "output_type": "stream",
     "text": [
      "/home/hicham/anaconda3/lib/python3.7/site-packages/datascience/tables.py:222: FutureWarning: Implicit column method lookup is deprecated.\n",
      "  warnings.warn(\"Implicit column method lookup is deprecated.\", FutureWarning)\n"
     ]
    }
   ],
   "source": [
    "cum_counts = counts.cumsum().with_column('Chapter', np.arange(1, 44, 1))\n",
    "cum_counts.plot(column_for_xticks=3)\n",
    "plots.title('Cumulative Number of Times Each Name Appears', y=1.08);\n",
    "plots.show()"
   ]
  },
  {
   "cell_type": "code",
   "execution_count": 8,
   "id": "40d54eb3-98f0-42a8-9d34-9e4233bd7f5a",
   "metadata": {},
   "outputs": [
    {
     "data": {
      "text/html": [
       "<table border=\"1\" class=\"dataframe\">\n",
       "    <thead>\n",
       "        <tr>\n",
       "            <th>Chapters</th>\n",
       "        </tr>\n",
       "    </thead>\n",
       "    <tbody>\n",
       "        <tr>\n",
       "            <td>ONE\r\n",
       "\r\n",
       "PLAYING PILGRIMS\r\n",
       "\r\n",
       "\"Christmas won't be Christmas ...</td>\n",
       "        </tr>\n",
       "        <tr>\n",
       "            <td>TWO\r\n",
       "\r\n",
       "A MERRY CHRISTMAS\r\n",
       "\r\n",
       "Jo was the first to wake in  ...</td>\n",
       "        </tr>\n",
       "        <tr>\n",
       "            <td>THREE\r\n",
       "\r\n",
       "THE LAURENCE BOY\r\n",
       "\r\n",
       "\"Jo!Jo!Where are you?\" crie ...</td>\n",
       "        </tr>\n",
       "        <tr>\n",
       "            <td>FOUR\r\n",
       "\r\n",
       "BURDENS\r\n",
       "\r\n",
       "\"Oh, dear, how hard it does seem to t ...</td>\n",
       "        </tr>\n",
       "        <tr>\n",
       "            <td>FIVE\r\n",
       "\r\n",
       "BEING NEIGHBORLY\r\n",
       "\r\n",
       "\"What in the world are you g ...</td>\n",
       "        </tr>\n",
       "        <tr>\n",
       "            <td>SIX\r\n",
       "\r\n",
       "BETH FINDS THE PALACE BEAUTIFUL\r\n",
       "\r\n",
       "The big house  ...</td>\n",
       "        </tr>\n",
       "        <tr>\n",
       "            <td>SEVEN\r\n",
       "\r\n",
       "AMY'S VALLEY OF HUMILIATION\r\n",
       "\r\n",
       "\"That boy is a p ...</td>\n",
       "        </tr>\n",
       "        <tr>\n",
       "            <td>EIGHT\r\n",
       "\r\n",
       "JO MEETS APOLLYON\r\n",
       "\r\n",
       "\"Girls, where are you goin ...</td>\n",
       "        </tr>\n",
       "        <tr>\n",
       "            <td>NINE\r\n",
       "\r\n",
       "MEG GOES TO VANITY FAIR\r\n",
       "\r\n",
       "\"I do think it was th ...</td>\n",
       "        </tr>\n",
       "        <tr>\n",
       "            <td>TEN\r\n",
       "\r\n",
       "THE P.C. AND P.O.\r\n",
       "\r\n",
       "As spring came on, a new set ...</td>\n",
       "        </tr>\n",
       "    </tbody>\n",
       "</table>\n",
       "<p>... (37 rows omitted)</p>"
      ],
      "text/plain": [
       "Chapters\n",
       "ONE\n",
       "\n",
       "PLAYING PILGRIMS\n",
       "\n",
       "\"Christmas won't be Christmas ...\n",
       "TWO\n",
       "\n",
       "A MERRY CHRISTMAS\n",
       "\n",
       "Jo was the first to wake in  ...\n",
       "THREE\n",
       "\n",
       "THE LAURENCE BOY\n",
       "\n",
       "\"Jo!Jo!Where are you?\" crie ...\n",
       "FOUR\n",
       "\n",
       "BURDENS\n",
       "\n",
       "\"Oh, dear, how hard it does seem to t ...\n",
       "FIVE\n",
       "\n",
       "BEING NEIGHBORLY\n",
       "\n",
       "\"What in the world are you g ...\n",
       "SIX\n",
       "\n",
       "BETH FINDS THE PALACE BEAUTIFUL\n",
       "\n",
       "The big house  ...\n",
       "SEVEN\n",
       "\n",
       "AMY'S VALLEY OF HUMILIATION\n",
       "\n",
       "\"That boy is a p ...\n",
       "EIGHT\n",
       "\n",
       "JO MEETS APOLLYON\n",
       "\n",
       "\"Girls, where are you goin ...\n",
       "NINE\n",
       "\n",
       "MEG GOES TO VANITY FAIR\n",
       "\n",
       "\"I do think it was th ...\n",
       "TEN\n",
       "\n",
       "THE P.C. AND P.O.\n",
       "\n",
       "As spring came on, a new set ...\n",
       "... (37 rows omitted)"
      ]
     },
     "execution_count": 8,
     "metadata": {},
     "output_type": "execute_result"
    }
   ],
   "source": [
    "# The chapters of Little Women, in a table\n",
    "\n",
    "Table().with_column('Chapters', little_women_chapters)"
   ]
  },
  {
   "cell_type": "code",
   "execution_count": 9,
   "id": "7fc82050-785a-4efd-96ff-e3ec199ca598",
   "metadata": {},
   "outputs": [
    {
     "name": "stderr",
     "output_type": "stream",
     "text": [
      "/home/hicham/anaconda3/lib/python3.7/site-packages/datascience/tables.py:222: FutureWarning: Implicit column method lookup is deprecated.\n",
      "  warnings.warn(\"Implicit column method lookup is deprecated.\", FutureWarning)\n"
     ]
    },
    {
     "data": {
      "text/html": [
       "<table border=\"1\" class=\"dataframe\">\n",
       "    <thead>\n",
       "        <tr>\n",
       "            <th>Amy</th> <th>Beth</th> <th>Jo</th> <th>Meg</th> <th>Laurie</th> <th>Chapter</th>\n",
       "        </tr>\n",
       "    </thead>\n",
       "    <tbody>\n",
       "        <tr>\n",
       "            <td>23  </td> <td>26  </td> <td>44  </td> <td>26  </td> <td>0     </td> <td>1      </td>\n",
       "        </tr>\n",
       "        <tr>\n",
       "            <td>36  </td> <td>38  </td> <td>65  </td> <td>46  </td> <td>0     </td> <td>2      </td>\n",
       "        </tr>\n",
       "        <tr>\n",
       "            <td>38  </td> <td>40  </td> <td>127 </td> <td>82  </td> <td>16    </td> <td>3      </td>\n",
       "        </tr>\n",
       "        <tr>\n",
       "            <td>52  </td> <td>58  </td> <td>161 </td> <td>99  </td> <td>16    </td> <td>4      </td>\n",
       "        </tr>\n",
       "        <tr>\n",
       "            <td>58  </td> <td>72  </td> <td>216 </td> <td>112 </td> <td>51    </td> <td>5      </td>\n",
       "        </tr>\n",
       "        <tr>\n",
       "            <td>64  </td> <td>100 </td> <td>229 </td> <td>117 </td> <td>60    </td> <td>6      </td>\n",
       "        </tr>\n",
       "        <tr>\n",
       "            <td>91  </td> <td>105 </td> <td>238 </td> <td>122 </td> <td>67    </td> <td>7      </td>\n",
       "        </tr>\n",
       "        <tr>\n",
       "            <td>139 </td> <td>114 </td> <td>309 </td> <td>138 </td> <td>84    </td> <td>8      </td>\n",
       "        </tr>\n",
       "        <tr>\n",
       "            <td>142 </td> <td>119 </td> <td>330 </td> <td>209 </td> <td>108   </td> <td>9      </td>\n",
       "        </tr>\n",
       "        <tr>\n",
       "            <td>147 </td> <td>124 </td> <td>342 </td> <td>213 </td> <td>112   </td> <td>10     </td>\n",
       "        </tr>\n",
       "    </tbody>\n",
       "</table>\n",
       "<p>... (37 rows omitted)</p>"
      ],
      "text/plain": [
       "Amy  | Beth | Jo   | Meg  | Laurie | Chapter\n",
       "23   | 26   | 44   | 26   | 0      | 1\n",
       "36   | 38   | 65   | 46   | 0      | 2\n",
       "38   | 40   | 127  | 82   | 16     | 3\n",
       "52   | 58   | 161  | 99   | 16     | 4\n",
       "58   | 72   | 216  | 112  | 51     | 5\n",
       "64   | 100  | 229  | 117  | 60     | 6\n",
       "91   | 105  | 238  | 122  | 67     | 7\n",
       "139  | 114  | 309  | 138  | 84     | 8\n",
       "142  | 119  | 330  | 209  | 108    | 9\n",
       "147  | 124  | 342  | 213  | 112    | 10\n",
       "... (37 rows omitted)"
      ]
     },
     "execution_count": 9,
     "metadata": {},
     "output_type": "execute_result"
    }
   ],
   "source": [
    "# Counts of names in the chapters of Little Women\n",
    "\n",
    "counts = Table().with_columns([\n",
    "        'Amy', np.char.count(little_women_chapters, 'Amy'),\n",
    "        'Beth', np.char.count(little_women_chapters, 'Beth'),\n",
    "        'Jo', np.char.count(little_women_chapters, 'Jo'),\n",
    "        'Meg', np.char.count(little_women_chapters, 'Meg'),\n",
    "        'Laurie', np.char.count(little_women_chapters, 'Laurie'),\n",
    "\n",
    "    ])\n",
    "\n",
    "# Plot the cumulative counts.\n",
    "\n",
    "cum_counts = counts.cumsum().with_column('Chapter', np.arange(1, 48, 1))\n",
    "cum_counts"
   ]
  },
  {
   "cell_type": "code",
   "execution_count": 10,
   "id": "eccf9097-d495-48e9-90d5-1485b9d47e62",
   "metadata": {},
   "outputs": [],
   "source": [
    "cum_counts.plot()\n",
    "plots.title('Cumulative Number of Times Each Name Appears', y=1.08);\n",
    "plots.show()"
   ]
  },
  {
   "cell_type": "code",
   "execution_count": 11,
   "id": "6e005089-3a23-44f4-9147-0f82e76a43fd",
   "metadata": {},
   "outputs": [
    {
     "data": {
      "text/html": [
       "<table border=\"1\" class=\"dataframe\">\n",
       "    <thead>\n",
       "        <tr>\n",
       "            <th>Huck Finn Chapter Length</th> <th>Number of Periods</th>\n",
       "        </tr>\n",
       "    </thead>\n",
       "    <tbody>\n",
       "        <tr>\n",
       "            <td>7206                    </td> <td>66               </td>\n",
       "        </tr>\n",
       "        <tr>\n",
       "            <td>12352                   </td> <td>117              </td>\n",
       "        </tr>\n",
       "        <tr>\n",
       "            <td>8764                    </td> <td>72               </td>\n",
       "        </tr>\n",
       "        <tr>\n",
       "            <td>7029                    </td> <td>84               </td>\n",
       "        </tr>\n",
       "        <tr>\n",
       "            <td>8443                    </td> <td>91               </td>\n",
       "        </tr>\n",
       "        <tr>\n",
       "            <td>14910                   </td> <td>125              </td>\n",
       "        </tr>\n",
       "        <tr>\n",
       "            <td>13586                   </td> <td>127              </td>\n",
       "        </tr>\n",
       "        <tr>\n",
       "            <td>22935                   </td> <td>249              </td>\n",
       "        </tr>\n",
       "        <tr>\n",
       "            <td>8301                    </td> <td>71               </td>\n",
       "        </tr>\n",
       "        <tr>\n",
       "            <td>7234                    </td> <td>70               </td>\n",
       "        </tr>\n",
       "    </tbody>\n",
       "</table>\n",
       "<p>... (33 rows omitted)</p>"
      ],
      "text/plain": [
       "Huck Finn Chapter Length | Number of Periods\n",
       "7206                     | 66\n",
       "12352                    | 117\n",
       "8764                     | 72\n",
       "7029                     | 84\n",
       "8443                     | 91\n",
       "14910                    | 125\n",
       "13586                    | 127\n",
       "22935                    | 249\n",
       "8301                     | 71\n",
       "7234                     | 70\n",
       "... (33 rows omitted)"
      ]
     },
     "execution_count": 11,
     "metadata": {},
     "output_type": "execute_result"
    }
   ],
   "source": [
    "# In each chapter, count the number of all characters;\n",
    "# call this the \"length\" of the chapter.\n",
    "# Also count the number of periods.\n",
    "\n",
    "chars_periods_huck_finn = Table().with_columns([\n",
    "        'Huck Finn Chapter Length', [len(s) for s in huck_finn_chapters],\n",
    "        'Number of Periods', np.char.count(huck_finn_chapters, '.')\n",
    "    ])\n",
    "chars_periods_little_women = Table().with_columns([\n",
    "        'Little Women Chapter Length', [len(s) for s in little_women_chapters],\n",
    "        'Number of Periods', np.char.count(little_women_chapters, '.')\n",
    "    ])\n",
    "\n",
    "chars_periods_huck_finn"
   ]
  },
  {
   "cell_type": "code",
   "execution_count": 15,
   "id": "c42d3d14-c447-4f31-9f99-bbce1791c425",
   "metadata": {},
   "outputs": [],
   "source": [
    "plots.figure(figsize=(6, 6))\n",
    "plots.scatter(chars_periods_huck_finn.column(1), chars_periods_huck_finn.column(0),  color='darkblue')\n",
    "plots.scatter(chars_periods_little_women.column(1), chars_periods_little_women.column(0), color='gold')\n",
    "plots.xlabel('Number of periods in chapter')\n",
    "plots.ylabel('Number of characters in chapter')\n",
    "plots.show()"
   ]
  },
  {
   "cell_type": "markdown",
   "id": "09b4081a-e534-4279-86e8-e31cd9a332a0",
   "metadata": {},
   "source": [
    "Likewise, a ten-year growth rate can be used to compute an equivalent annual growth rate. Below, t is the number of years that have passed between measurements. The following computes the annual growth rate of federal expenditures over the last 10 years."
   ]
  },
  {
   "cell_type": "code",
   "execution_count": 16,
   "id": "4c8cf1ca-03a5-4133-8366-06956b81e8c5",
   "metadata": {},
   "outputs": [
    {
     "data": {
      "text/plain": [
       "0.03613617208346853"
      ]
     },
     "execution_count": 16,
     "metadata": {},
     "output_type": "execute_result"
    }
   ],
   "source": [
    "initial = 2.37\n",
    "changed = 3.38\n",
    "t = 10\n",
    "(changed/initial) ** (1/t) - 1"
   ]
  },
  {
   "cell_type": "code",
   "execution_count": 17,
   "id": "86c28aac-9714-4bde-a5a0-bcdb8cd8baa4",
   "metadata": {},
   "outputs": [
    {
     "data": {
      "text/plain": [
       "42.62"
      ]
     },
     "execution_count": 17,
     "metadata": {},
     "output_type": "execute_result"
    }
   ],
   "source": [
    "#calculate the rate\n",
    "initial = 2.37\n",
    "changed = 3.38\n",
    "rate =round( ((changed/initial)-1 ) *100,2)\n",
    "rate"
   ]
  },
  {
   "cell_type": "markdown",
   "id": "08842a41-47a9-4978-bc16-a0e4df7832fb",
   "metadata": {},
   "source": [
    "![Contentzh](tz.png)"
   ]
  },
  {
   "cell_type": "markdown",
   "id": "3bd22da3-2a3c-4a14-8acb-1d4d0aa5950d",
   "metadata": {},
   "source": [
    "![3rd statistical moment-Skewness](b.png)"
   ]
  },
  {
   "cell_type": "code",
   "execution_count": null,
   "id": "49f2600a-af0c-43d0-a4f1-8c416badb3bd",
   "metadata": {},
   "outputs": [],
   "source": []
  },
  {
   "cell_type": "code",
   "execution_count": null,
   "id": "6c4181cd-22ac-4329-829c-4db6ecd116c3",
   "metadata": {},
   "outputs": [],
   "source": []
  },
  {
   "cell_type": "code",
   "execution_count": null,
   "id": "56d19912-04f0-40ef-bfc5-76a476c2871d",
   "metadata": {},
   "outputs": [],
   "source": []
  }
 ],
 "metadata": {
  "kernelspec": {
   "display_name": "Python 3",
   "language": "python",
   "name": "python3"
  },
  "language_info": {
   "codemirror_mode": {
    "name": "ipython",
    "version": 3
   },
   "file_extension": ".py",
   "mimetype": "text/x-python",
   "name": "python",
   "nbconvert_exporter": "python",
   "pygments_lexer": "ipython3",
   "version": "3.7.6"
  }
 },
 "nbformat": 4,
 "nbformat_minor": 5
}
